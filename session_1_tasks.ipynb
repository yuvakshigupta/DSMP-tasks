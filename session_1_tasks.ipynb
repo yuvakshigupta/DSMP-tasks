{
  "nbformat": 4,
  "nbformat_minor": 0,
  "metadata": {
    "colab": {
      "provenance": [],
      "include_colab_link": true
    },
    "kernelspec": {
      "name": "python3",
      "display_name": "Python 3"
    },
    "language_info": {
      "name": "python"
    }
  },
  "cells": [
    {
      "cell_type": "markdown",
      "metadata": {
        "id": "view-in-github",
        "colab_type": "text"
      },
      "source": [
        "<a href=\"https://colab.research.google.com/github/yuvakshigupta/DSMP-tasks/blob/main/session_1_tasks.ipynb\" target=\"_parent\"><img src=\"https://colab.research.google.com/assets/colab-badge.svg\" alt=\"Open In Colab\"/></a>"
      ]
    },
    {
      "cell_type": "markdown",
      "source": [
        "# Task : Session 1\n",
        "Solve these questions own your own and try to test yourself what you have learned in the session.\n",
        "\n",
        "Happy Learning!"
      ],
      "metadata": {
        "id": "A05OG15VqOPF"
      }
    },
    {
      "cell_type": "markdown",
      "source": [
        "### Q1 :- Print the given strings as per stated format.\n",
        "\n",
        "**Given strings**:\n",
        "```\n",
        "\"Data\" \"Science\" \"Mentorship\" \"Program\"\n",
        "\"By\" \"CampusX\"\n",
        "```\n",
        "**Output**:\n",
        "```\n",
        "Data-Science-Mentorship-Program-started-By-CampusX\n",
        "```\n",
        "\n",
        "Concept- [Seperator and End]"
      ],
      "metadata": {
        "id": "2doIXf8bqe9_"
      }
    },
    {
      "cell_type": "code",
      "source": [
        "print(\"Data\", \"Science\" ,\"Mentorship\", \"Program\",sep = '-', end = '-started-')\n",
        "print(\"By\",\"CampusX\", sep = '-')"
      ],
      "metadata": {
        "id": "-em6d3KErDtp",
        "outputId": "215589ee-06db-408a-f98d-475aa2bce3ee",
        "colab": {
          "base_uri": "https://localhost:8080/"
        }
      },
      "execution_count": null,
      "outputs": [
        {
          "output_type": "stream",
          "name": "stdout",
          "text": [
            "Data-Science-Mentorship-Program-started-By-CampusX\n"
          ]
        }
      ]
    },
    {
      "cell_type": "markdown",
      "source": [
        "### Q2:- Write a program that will convert celsius value to fahrenheit."
      ],
      "metadata": {
        "id": "1KUpN7ZTrC3_"
      }
    },
    {
      "cell_type": "code",
      "source": [
        "C = float(input(\"Enter temperature in celsius : \"))\n",
        "F = (9/5 * C) + 32\n",
        "print(F,' F')"
      ],
      "metadata": {
        "id": "yxKYhYQiqWfj",
        "outputId": "389b3014-2256-451e-ad97-c1d65ee507b3",
        "colab": {
          "base_uri": "https://localhost:8080/"
        }
      },
      "execution_count": null,
      "outputs": [
        {
          "output_type": "stream",
          "name": "stdout",
          "text": [
            "Enter temperature in celsius : 06.25\n",
            "43.25  F\n"
          ]
        }
      ]
    },
    {
      "cell_type": "markdown",
      "source": [
        "### Q3:- Take 2 numbers as input from the user.Write a program to swap the numbers without using any special python syntax."
      ],
      "metadata": {
        "id": "RLrOBBJurLB2"
      }
    },
    {
      "cell_type": "code",
      "source": [
        "a = int(input())\n",
        "b = int(input())\n",
        "\n",
        "# temp = a\n",
        "# a = b\n",
        "# b = temp\n",
        "\n",
        "a, b = b,a\n",
        "\n",
        "print(a)\n",
        "print(b)"
      ],
      "metadata": {
        "id": "yPn7if0TrJ4F",
        "outputId": "8b6938ec-49be-4ea9-882e-81b90133d486",
        "colab": {
          "base_uri": "https://localhost:8080/"
        }
      },
      "execution_count": null,
      "outputs": [
        {
          "output_type": "stream",
          "name": "stdout",
          "text": [
            "1\n",
            "2\n",
            "2\n",
            "1\n"
          ]
        }
      ]
    },
    {
      "cell_type": "markdown",
      "source": [
        "2"
      ],
      "metadata": {
        "id": "mQKvlyuTvqxO"
      }
    },
    {
      "cell_type": "markdown",
      "source": [
        "### Q4:- Write a program to find the euclidean distance between two coordinates.Take both the coordinates from the user as input."
      ],
      "metadata": {
        "id": "waLCP1bjr7ML"
      }
    },
    {
      "cell_type": "code",
      "source": [
        "x1 = int(input('Enter x coordinate of first point :'))\n",
        "y1 = int(input('Enter y coordinate of first point :'))\n",
        "x2 = int(input('Enter x coordinate of second point :'))\n",
        "y2 = int(input('Enter x coordinate of second point :'))\n",
        "\n",
        "distance = ((x2 - x1)**2 + (y2 - y1)**2)**0.5\n",
        "print(distance)"
      ],
      "metadata": {
        "id": "Pl1Sv-xnrxnH",
        "outputId": "db7260a1-655c-431c-bb01-b1f4c2568624",
        "colab": {
          "base_uri": "https://localhost:8080/"
        }
      },
      "execution_count": 1,
      "outputs": [
        {
          "output_type": "stream",
          "name": "stdout",
          "text": [
            "Enter x coordinate of first point :1\n",
            "Enter y coordinate of first point :2\n",
            "Enter x coordinate of second point :1\n",
            "Enter x coordinate of second point :2\n",
            "0.0\n"
          ]
        }
      ]
    },
    {
      "cell_type": "markdown",
      "source": [
        "### Q5:- Write a program to find the simple interest when the value of principle,rate of interest and time period is provided by the user.\n"
      ],
      "metadata": {
        "id": "VLrhg-FRsHjR"
      }
    },
    {
      "cell_type": "code",
      "source": [
        "p = float(input('Enter the principal :'))\n",
        "r = int(input('Enter the rate of interest(in pa) :'))\n",
        "t = int(input('Enter the time(in years) :'))\n",
        "\n",
        "simple_interest = (p*r*t)/100\n",
        "print(simple_interest)"
      ],
      "metadata": {
        "id": "s40DlReZsTmY",
        "outputId": "bb6be9f8-bf63-4b73-b6a1-26a2077258ac",
        "colab": {
          "base_uri": "https://localhost:8080/"
        }
      },
      "execution_count": 2,
      "outputs": [
        {
          "output_type": "stream",
          "name": "stdout",
          "text": [
            "Enter the principal :1000\n",
            "Enter the rate of interest(in pa) :3\n",
            "Enter the time(in years) :1\n",
            "30.0\n"
          ]
        }
      ]
    },
    {
      "cell_type": "markdown",
      "source": [
        "### Q6:- Write a program that will tell the number of dogs and chicken are there when the user will provide the value of total heads and legs.\n",
        "\n",
        "For example:\n",
        "Input:\n",
        "heads -> 4\n",
        "legs -> 12\n",
        "<br>\n",
        "Output:\n",
        "dogs -> 2\n",
        "chicken -> 2\n",
        "\n",
        "\n",
        "\n"
      ],
      "metadata": {
        "id": "LMy0BTUktYKa"
      }
    },
    {
      "cell_type": "code",
      "source": [
        "heads = int(input('Enter number of heads :'))\n",
        "legs = int(input('Enter number of legs :'))\n",
        "\n",
        "dogs = heads/2\n",
        "chickens ="
      ],
      "metadata": {
        "id": "XSBvJoA4tXaG"
      },
      "execution_count": null,
      "outputs": []
    },
    {
      "cell_type": "markdown",
      "source": [
        "### Q7:- Write a program to find the sum of squares of first n natural numbers where n will be provided by the user."
      ],
      "metadata": {
        "id": "gJ7C5kZYt4BP"
      }
    },
    {
      "cell_type": "code",
      "source": [
        "n = int(input('Enter the number :'))\n",
        "sum = (n*(n+1)*(2*n+1))/6\n",
        "print(sum)"
      ],
      "metadata": {
        "id": "_tHsmEHzt2nX",
        "outputId": "5b2cebda-bc1e-4841-c1f4-ec7cb2d8c9b7",
        "colab": {
          "base_uri": "https://localhost:8080/"
        }
      },
      "execution_count": 6,
      "outputs": [
        {
          "output_type": "stream",
          "name": "stdout",
          "text": [
            "Enter the number :3\n",
            "14.0\n"
          ]
        }
      ]
    },
    {
      "cell_type": "markdown",
      "source": [
        "\\### Q8:- Given the first 2 terms of an Arithmetic Series.Find the Nth term of the series. Assume all inputs are provided by the user."
      ],
      "metadata": {
        "id": "FHrMM7g-yG1h"
      }
    },
    {
      "cell_type": "code",
      "source": [
        "t1 = int(input('Enter first term : '))\n",
        "t2 = int(input('Enter second term : '))\n",
        "n = int(input('Enter n to be found : '))\n",
        "\n",
        "d = t2 - t1\n",
        "an = t1 + (n-1)*d\n",
        "print(an)"
      ],
      "metadata": {
        "id": "go4_kmZmyVSx",
        "outputId": "280d27af-d4d8-4f5d-c96d-173fd7def766",
        "colab": {
          "base_uri": "https://localhost:8080/"
        }
      },
      "execution_count": 7,
      "outputs": [
        {
          "output_type": "stream",
          "name": "stdout",
          "text": [
            "Enter first term : 1\n",
            "Enter second term : 2\n",
            "Enter n to be found : 10\n",
            "10\n"
          ]
        }
      ]
    },
    {
      "cell_type": "markdown",
      "source": [
        "### Q9:- Given 2 fractions, find the sum of those 2 fractions.Take the numerator and denominator values of the fractions from the user."
      ],
      "metadata": {
        "id": "QgyRX_es1oum"
      }
    },
    {
      "cell_type": "code",
      "source": [
        "num1 = int(input('Enter first numerator : '))\n",
        "den1 = int(input('Enter first denominator : '))\n",
        "num2 = int(input('Enter second numerator : '))\n",
        "den2 = int(input('Enter second denominator : '))\n",
        "\n",
        "sum_num = (num1*den2)*(num2*den1)\n",
        "sum_den = (den1*den2)\n",
        "\n",
        "print(\"Resultant fraction is :\", '{}/{}'.format(sum_num,sum_den))"
      ],
      "metadata": {
        "id": "X05xqFS1yW16",
        "outputId": "b18bfd2d-19bc-41b2-db97-0790fe20a18b",
        "colab": {
          "base_uri": "https://localhost:8080/"
        }
      },
      "execution_count": 11,
      "outputs": [
        {
          "output_type": "stream",
          "name": "stdout",
          "text": [
            "Enter first numerator : 1\n",
            "Enter first denominator : 2\n",
            "Enter second numerator : 1\n",
            "Enter second denominator : 2\n",
            "Resultant fraction is : 4/4\n"
          ]
        }
      ]
    },
    {
      "cell_type": "markdown",
      "source": [
        "### Q10:- Given the height, width and breadth of a milk tank, you have to find out how many glasses of milk can be obtained? Assume all the inputs are provided by the user.\n",
        "\n",
        "\n",
        "\n",
        "Input:<br>\n",
        "Dimensions of the milk tank<br>\n",
        "H = 20cm, L = 20cm, B = 20cm\n",
        "<br><br>\n",
        "Dimensions of the glass<br>\n",
        "h = 3cm, r = 1cm"
      ],
      "metadata": {
        "id": "eaql38ln13u7"
      }
    },
    {
      "cell_type": "code",
      "source": [
        "height = float(input('Enter the height of tank : '))\n",
        "length = float(input('Enter the length of tank : '))\n",
        "breadth = float(input('Enter the breadth of tank : '))\n",
        "\n",
        "heigth = float(input('Enter the height of glass : '))\n",
        "radius = float(input('Enter the radius of glass : '))\n",
        "\n",
        "volume_tank = height*length*breadth\n",
        "volume_glass = 3.14*radius*height\n",
        "\n",
        "result = volume_tank/volume_glass\n",
        "print('No. of glasses of milk :', result)"
      ],
      "metadata": {
        "id": "FePZqno74eWv",
        "outputId": "244dc92f-acb7-40fd-97c3-742479a4db33",
        "colab": {
          "base_uri": "https://localhost:8080/"
        }
      },
      "execution_count": 12,
      "outputs": [
        {
          "output_type": "stream",
          "name": "stdout",
          "text": [
            "Enter the height of tank : 1\n",
            "Enter the length of tank : 1\n",
            "Enter the breadth of tank : 1\n",
            "Enter the height of glass : 1\n",
            "Enter the radius of glass : 1\n",
            "No. of glasses of milk : 0.3184713375796178\n"
          ]
        }
      ]
    }
  ]
}